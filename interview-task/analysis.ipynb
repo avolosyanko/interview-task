{
 "cells": [
  {
   "cell_type": "markdown",
   "metadata": {},
   "source": [
    "# Data Analysis Report\n",
    "\n",
    "## Overview\n",
    "New Muzz users are asked to verify their phone number as an initial layer of security. This involves having the user receive a one-time password (OTP) that they are then required to submit successfully to move onto the next layer of security and begin building their profiles. This report analyses the effectiveness of three different verification approaches: SMS Only, SMS Primary (with WhatsApp as an alternative), and WhatsApp Primary (with SMS as an alternative). Using sample data from an ABC test, we evaluate these methods based on verification success rates, cost efficiency, and user adoption to determine the best verification strategy.\n",
    "\n",
    "\n",
    "## Setup\n",
    "We begin by setting up our environment by installing the relevant packages and loading in our datasets. We have also configured the pandas display option to ensure better data visibility during our analysis. Our datasets include:\n",
    "\n",
    "- `verification.csv`: Contains verification-related data\n",
    "- `profiles.csv`: Contains profile information\n",
    "- `costs.csv`: Contains cost-related data"
   ]
  },
  {
   "cell_type": "code",
   "execution_count": 93,
   "metadata": {},
   "outputs": [],
   "source": [
    "# Install packages\n",
    "import pandas as pd\n",
    "import numpy as np\n",
    "import matplotlib.pyplot as plt\n",
    "import seaborn as sns\n",
    "import os\n",
    "\n",
    "# Configure display options\n",
    "pd.set_option('display.max_columns', None)\n",
    "pd.set_option('display.max_rows', 10)\n",
    "pd.set_option('display.width', 1000)\n",
    "\n",
    "# Read in data\n",
    "verification = pd.read_csv('verification.csv')\n",
    "profiles = pd.read_csv('profiles.csv')\n",
    "costs = pd.read_csv('costs.csv')"
   ]
  },
  {
   "cell_type": "markdown",
   "metadata": {},
   "source": [
    "## Data Preview\n",
    "\n",
    "A quick look at our datasets gives us a feel for the stucture of the datasets:\n",
    "\n",
    "1. Verification Data (verification.csv)\n",
    "  * Records which screen variant each user saw (A, B, or C)\n",
    "  * Shows their chosen verification method (SMS or WhatsApp)\n",
    "  * Tracks if verification was successful\n",
    "\n",
    "2. User Profiles (profiles.csv)\n",
    "  * Contains user demographics (gender, age, country)\n",
    "  * Helps understand if certain user groups prefer different methods\n",
    "\n",
    "3. Cost Data (costs.csv)\n",
    "  * Shows SMS and WhatsApp costs by country\n",
    "  * Helps evaluate the financial impact of each method"
   ]
  },
  {
   "cell_type": "code",
   "execution_count": 94,
   "metadata": {},
   "outputs": [
    {
     "name": "stdout",
     "output_type": "stream",
     "text": [
      "\n",
      "--------------------------------------------------\n",
      "Data snippet for Verification Dataset:\n",
      "--------------------------------------------------\n",
      "                            userID group method  verified\n",
      "0  mpr_2fHOBr0Nw6mNM2fPIKMeSyKUP0e     B    Sms         0\n",
      "1  mpr_2fHOmoydcZfjF0UdFEmDQQifYK1     C    Sms         1\n",
      "2  mpr_2fHRBhLrWEOcfjjblwatVXbnxoN     B    Sms         1\n",
      "3  mpr_2fHQGGdXwbv8902hxC9C1dt1ThN     A    Sms         1\n",
      "4  mpr_2fHSJ6Yyz6VC06GVQFjXH9q7s6m     A    Sms         1\n",
      "\n",
      "--------------------------------------------------\n",
      "Data snippet for Profiles Dataset:\n",
      "--------------------------------------------------\n",
      "                            userID gender                  dob country\n",
      "0  mpr_2fOzSxcEMql0TQkeK2vGCuJBu9K      M  25 Oct, 2005, 00:00      CA\n",
      "1  mpr_2fIcL4JraEe6OMdD4xvfVIZiAx8      M  10 Jun, 1978, 00:00      CA\n",
      "2  mpr_2fHMFzUtfSXQORtB5anUIjuNQso      F  15 Feb, 2002, 00:00      GB\n",
      "3  mpr_2fHaKh68oUhLyEZwztVzaCHefQ9      F  25 Aug, 2001, 00:00      FR\n",
      "4  mpr_2fIJtYAsOQ8AqU402d8j5yEFLqt      M  18 Apr, 1990, 00:00      FR\n",
      "\n",
      "--------------------------------------------------\n",
      "Data snippet for Costs Dataset:\n",
      "--------------------------------------------------\n",
      "  country  whatsapp_usd   sms_usd\n",
      "0      AC         0.043  0.107000\n",
      "1      AD         0.043  0.130000\n",
      "2      AE         0.026  0.063066\n",
      "3      AF         0.040  0.180605\n",
      "4      AG         0.043  0.108000\n"
     ]
    }
   ],
   "source": [
    "# View dataframe snippet\n",
    "for name, df in [(\"Verification\", verification), (\"Profiles\", profiles), (\"Costs\", costs)]:\n",
    "    print(f\"\\n{'-'*50}\")\n",
    "    print(f\"Data snippet for {name} Dataset:\")\n",
    "    print(f\"{'-'*50}\")\n",
    "    print(df.head())"
   ]
  },
  {
   "cell_type": "markdown",
   "metadata": {},
   "source": [
    "## Data Quality Checks\n",
    "\n",
    "Our three datasets can be linked using userID and country codes. However, first let's verify that there are no missing values, duplicate ID's and take a look at our sample sizes. As part of our data quality checks we would also like to understand some of the following key metrics:\n",
    "\n",
    "- ABC test group distribution\n",
    "- Verification methods and success rates\n",
    "- Gender split\n",
    "- Date ranges for user ages\n",
    "- Cost ranges for both methods\n",
    "\n",
    "We can see from the output below that we have a large sample size of 18,424 users with no duplicate ID's and mostly complete data - only missing 3 country values in profiles. Interestingly, we see generally high verification success at `91%`, a gender skew of `62%` male vs `38%` female and a wide age range. We can also see that WhatsApp is generally cheaper than SMS with respective costs at `$0.008 - $0.440` per message vs `$0.026 - $0.086` per message."
   ]
  },
  {
   "cell_type": "code",
   "execution_count": 95,
   "metadata": {},
   "outputs": [
    {
     "name": "stdout",
     "output_type": "stream",
     "text": [
      "\n",
      "--------------------------------------------------\n",
      "Checking Verification Dataset:\n",
      "--------------------------------------------------\n",
      "Missing values: userID      0\n",
      "group       0\n",
      "method      0\n",
      "verified    0\n",
      "dtype: int64\n",
      "Duplicate keys: 0\n",
      "Row count: 18424\n",
      "\n",
      "Key metrics:\n",
      "Groups: ['B' 'C' 'A']\n",
      "Methods: ['Sms' 'Whatsapp']\n",
      "Verification rates: 1    0.90914\n",
      "0    0.09086\n",
      "Name: verified, dtype: float64\n",
      "\n",
      "--------------------------------------------------\n",
      "Checking Profiles Dataset:\n",
      "--------------------------------------------------\n",
      "Missing values: userID     0\n",
      "gender     0\n",
      "dob        0\n",
      "country    3\n",
      "dtype: int64\n",
      "Duplicate keys: 0\n",
      "Row count: 18424\n",
      "\n",
      "Key metrics:\n",
      "Gender distribution: M    11387\n",
      "F     7037\n",
      "Name: gender, dtype: int64\n",
      "Date range: From: 1938-09-16 To: 2006-04-21\n",
      "\n",
      "--------------------------------------------------\n",
      "Checking Costs Dataset:\n",
      "--------------------------------------------------\n",
      "Missing values: country         0\n",
      "whatsapp_usd    0\n",
      "sms_usd         0\n",
      "dtype: int64\n",
      "Duplicate keys: 0\n",
      "Row count: 228\n",
      "\n",
      "Key metrics:\n",
      "SMS cost range: $0.008 to $0.440\n",
      "WhatsApp cost range: $0.026 to $0.086\n"
     ]
    }
   ],
   "source": [
    "# Data quality checks\n",
    "for name, df in {'Verification': verification, 'Profiles': profiles, 'Costs': costs}.items():\n",
    "    print(f\"\\n{'-'*50}\")\n",
    "    print(f\"Checking {name} Dataset:\")\n",
    "    print(f\"{'-'*50}\")\n",
    "    print(\"Missing values:\", df.isnull().sum())\n",
    "    print(\"Duplicate keys:\", df[df.columns[0]].duplicated().sum())\n",
    "    print(\"Row count:\", len(df))\n",
    "    \n",
    "    if name == 'Verification':\n",
    "        print(\"\\nKey metrics:\")\n",
    "        print(\"Groups:\", verification['group'].unique())\n",
    "        print(\"Methods:\", verification['method'].unique())\n",
    "        print(\"Verification rates:\", verification['verified'].value_counts(normalize=True))\n",
    "    \n",
    "    elif name == 'Profiles':\n",
    "        print(\"\\nKey metrics:\")\n",
    "        print(\"Gender distribution:\", profiles['gender'].value_counts())\n",
    "        print(\"Date range:\", \n",
    "              f\"From: {pd.to_datetime(profiles['dob']).min():%Y-%m-%d}\",\n",
    "              f\"To: {pd.to_datetime(profiles['dob']).max():%Y-%m-%d}\")\n",
    "    \n",
    "    elif name == 'Costs':\n",
    "        print(\"\\nKey metrics:\")\n",
    "        print(\"SMS cost range: ${:.3f} to ${:.3f}\".format(\n",
    "            costs['sms_usd'].min(), costs['sms_usd'].max()))\n",
    "        print(\"WhatsApp cost range: ${:.3f} to ${:.3f}\".format(\n",
    "            costs['whatsapp_usd'].min(), costs['whatsapp_usd'].max()))"
   ]
  },
  {
   "cell_type": "markdown",
   "metadata": {},
   "source": [
    "## Merging datasets\n",
    "\n",
    "We can merge the datasets and verify that there was no data loss."
   ]
  },
  {
   "cell_type": "code",
   "execution_count": 96,
   "metadata": {},
   "outputs": [
    {
     "name": "stdout",
     "output_type": "stream",
     "text": [
      "Verification records: 18424\n",
      "Final merged records: 18424\n"
     ]
    }
   ],
   "source": [
    "# Merge dataframes\n",
    "verification_profiles = verification.merge(profiles, on='userID', how='left')\n",
    "final_df = verification_profiles.merge(costs, on='country', how='left')\n",
    "\n",
    "# Validate no data loss\n",
    "print(\"Verification records:\", len(verification))\n",
    "print(\"Final merged records:\", len(final_df))"
   ]
  },
  {
   "cell_type": "markdown",
   "metadata": {},
   "source": [
    "## Analysis\n",
    "\n",
    "To determine the most effective verification screen, let's analyse:\n",
    "\n",
    "1. Success Metrics\n",
    "- Verification success rates across A/B/C groups\n",
    "- User preferences for SMS vs WhatsApp\n",
    "- Cost per successful verification\n",
    "\n",
    "2. User Behavior\n",
    "- Method selection patterns\n",
    "- Impact on different user segments\n",
    "- Regional variations"
   ]
  },
  {
   "cell_type": "markdown",
   "metadata": {},
   "source": [
    "## Success Metrics\n",
    "\n",
    "The analysis reveals Group C (WhatsApp Primary) is the most effective verification approach. This is because although groups B and C both achieve `92.8%` verification success, group C costs `$0.057` per successful verification (`43%` cheaper than group A at `$0.101` and `38%` cheaper than group B at `$0.092`). Group A lags behind at `87.3%` verification success rate. The sample sizes are well balanced across our groups with ~6000 users each. We can also see that WhatsApp and SMS showed similar success rates at `91.4%` vs `90.8%`, but the cost advantage of WhatsApp makes it the preferred choice."
   ]
  },
  {
   "cell_type": "code",
   "execution_count": 97,
   "metadata": {},
   "outputs": [
    {
     "name": "stdout",
     "output_type": "stream",
     "text": [
      "Success Rates by Variant:\n",
      "        mean  count\n",
      "group              \n",
      "A      0.873   6382\n",
      "B      0.928   5924\n",
      "C      0.928   6118\n",
      "\n",
      "Verification Success by Method:\n",
      "method\n",
      "Sms         0.908\n",
      "Whatsapp    0.914\n",
      "Name: verified, dtype: float64\n",
      "\n",
      "Cost per Successful Verification:\n",
      "group\n",
      "A    0.101\n",
      "B    0.092\n",
      "C    0.057\n",
      "Name: verification_cost, dtype: float64\n"
     ]
    }
   ],
   "source": [
    "# Verification success rates\n",
    "print(\"Success Rates by Variant:\")\n",
    "success_by_group = final_df.groupby('group')['verified'].agg(['mean', 'count'])\n",
    "print(success_by_group.round(3))\n",
    "\n",
    "# User preferences & success by method\n",
    "print(\"\\nVerification Success by Method:\")\n",
    "method_success = final_df.groupby('method')['verified'].mean()\n",
    "print(method_success.round(3))\n",
    "\n",
    "# Cost per successful verification\n",
    "print(\"\\nCost per Successful Verification:\")\n",
    "final_df['verification_cost'] = np.where(\n",
    "   final_df['method'] == 'Sms', \n",
    "   final_df['sms_usd'], \n",
    "   final_df['whatsapp_usd']\n",
    ")\n",
    "cost_success = final_df[final_df['verified'] == 1].groupby('group')['verification_cost'].mean()\n",
    "print(cost_success.round(3))"
   ]
  },
  {
   "cell_type": "markdown",
   "metadata": {},
   "source": [
    "## User Behaviour\n",
    "The analysis reveals some interesting user behaviour insights as follows:\n",
    "\n",
    "1. Method Selection\n",
    "- Group A (SMS Only): `100%` chose SMS (as expected)\n",
    "- Group B (SMS Primary): Strong preference for SMS (`89%`) despite WhatsApp option\n",
    "- Group C (WhatsApp Primary): `64%` chose WhatsApp, suggesting placement matters\n",
    "\n",
    "2. Gender Impact\n",
    "- All variants perform slightly better with female users\n",
    "- Groups B and C show nearly identical success rates at `92%`\n",
    "- Group A performs worst for both genders (`~87-89%`)\n",
    "\n",
    "3. Regional Patterns:\n",
    "- Top 5 markets: Morocco, France, Pakistan, US, Indonesia\n",
    "- Success rates consistently high (`89-94%`)\n",
    "- Expensive: Indonesia (`$0.141`), Pakistan (`$0.135`), Economical: US (`$0.014`), France (`$0.039`)\n",
    "\n",
    "These insights suggest user location significantly impacts costs, while gender has less of an effect on verification rates in this sample."
   ]
  },
  {
   "cell_type": "code",
   "execution_count": 98,
   "metadata": {},
   "outputs": [
    {
     "name": "stdout",
     "output_type": "stream",
     "text": [
      "Method Selection by Variant:\n",
      "method    Sms  Whatsapp\n",
      "group                  \n",
      "A       1.000     0.000\n",
      "B       0.887     0.113\n",
      "C       0.362     0.638\n",
      "\n",
      "Success Rates by Gender and Variant:\n",
      "group  gender\n",
      "A      F         0.885\n",
      "       M         0.866\n",
      "B      F         0.939\n",
      "       M         0.921\n",
      "C      F         0.940\n",
      "       M         0.921\n",
      "Name: verified, dtype: float64\n",
      "\n",
      "Top 5 Countries by Verification Volume:\n",
      "        verified        verification_cost\n",
      "           count   mean              mean\n",
      "country                                  \n",
      "MA          2037  0.894             0.096\n",
      "FR          1589  0.935             0.039\n",
      "PK          1570  0.896             0.135\n",
      "US          1311  0.927             0.014\n",
      "ID          1162  0.889             0.141\n"
     ]
    }
   ],
   "source": [
    "# Method selection patterns\n",
    "print(\"Method Selection by Variant:\")\n",
    "method_selection = pd.crosstab(final_df['group'], final_df['method'], normalize='index')\n",
    "print(method_selection.round(3))\n",
    "\n",
    "# Impact on user segments (gender)\n",
    "print(\"\\nSuccess Rates by Gender and Variant:\")\n",
    "gender_success = final_df.groupby(['group', 'gender'])['verified'].mean()\n",
    "print(gender_success.round(3))\n",
    "\n",
    "# Regional patterns\n",
    "print(\"\\nTop 5 Countries by Verification Volume:\")\n",
    "country_stats = final_df.groupby('country').agg({\n",
    "   'verified': ['count', 'mean'],\n",
    "   'verification_cost': 'mean'\n",
    "}).sort_values(('verified', 'count'), ascending=False).head()\n",
    "print(country_stats.round(3))"
   ]
  },
  {
   "cell_type": "markdown",
   "metadata": {},
   "source": [
    "## Conclusion & Recommendation\n",
    "\n",
    "Looking at the analysis, the recommended choice is to go with group C (WhatsApp Primary) as it offers the highest verification success rate at `92.8%` relative to cost per successful verification demonstrated by the graph below. Although Group C is our best option, our analysis also showed that regional customisation could further optimise both user experience and costs. Our investigation into 'User Behaviour' showed us that there was a significant variation in costs dependant on user location, which could suggest an even better choice might be to have a dynamic screen dependent on a user's geographical location.\n",
    "\n",
    "To further optimise our verification process and better understand user behavior patterns, we could collect additional metrics beyond just success rates and costs. These metrics would include:\n",
    "- Time to complete verification for each method\n",
    "- Failed verification reasons\n",
    "- User feedback/satisfaction scores\n",
    "- Device types and operating systems\n",
    "\n",
    "Based on the current analysis and the potential insights from additional metrics, we could consider another verification option such as email which would offer users some device flexibility, is not as dependent on mobile network coverage and could be a significantly cheaper option. It's clear that users prefer having optionality over strictly SMS in our sample data."
   ]
  },
  {
   "cell_type": "code",
   "execution_count": 99,
   "metadata": {},
   "outputs": [
    {
     "data": {
      "image/png": "[encoded data removed]",
      "text/plain": [
       "<Figure size 720x432 with 1 Axes>"
      ]
     },
     "metadata": {},
     "output_type": "display_data"
    }
   ],
   "source": [
    "# Create data for scatter plot\n",
    "groups = ['A: SMS Only', 'B: SMS Primary', 'C: WhatsApp Primary']\n",
    "success_rates = [0.873, 0.928, 0.928]\n",
    "costs = [0.101, 0.092, 0.057]\n",
    "\n",
    "# Create scatter plot\n",
    "plt.figure(figsize=(10, 6))\n",
    "plt.scatter(success_rates, costs, s=200, c=['orange', 'blue', 'green'])\n",
    "for i, group in enumerate(groups):\n",
    "    plt.annotate(group, \n",
    "                (success_rates[i], costs[i]),\n",
    "                xytext=(10, 10), \n",
    "                textcoords='offset points')\n",
    "plt.xlabel('Success Rate')\n",
    "plt.ylabel('Cost per Verification ($)')\n",
    "plt.title('Success Rate vs Cost by Verification Method', pad=20)\n",
    "plt.xlim(0.86, 0.94)\n",
    "plt.show()"
   ]
  }
 ],
 "metadata": {
  "kernelspec": {
   "display_name": "Python 3",
   "language": "python",
   "name": "python3"
  },
  "language_info": {
   "codemirror_mode": {
    "name": "ipython",
    "version": 3
   },
   "file_extension": ".py",
   "mimetype": "text/x-python",
   "name": "python",
   "nbconvert_exporter": "python",
   "pygments_lexer": "ipython3",
   "version": "3.9.12"
  }
 },
 "nbformat": 4,
 "nbformat_minor": 2
}
